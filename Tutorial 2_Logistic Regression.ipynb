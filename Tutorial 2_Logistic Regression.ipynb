{
 "cells": [
  {
   "cell_type": "code",
   "execution_count": 8,
   "metadata": {},
   "outputs": [],
   "source": [
    "import pandas as pd\n",
    "import numpy as np\n",
    "import statsmodels.api as sm"
   ]
  },
  {
   "cell_type": "markdown",
   "metadata": {},
   "source": [
    "# 1. Park Data\n",
    "## 1) Does offering of a promotion boost sales?"
   ]
  },
  {
   "cell_type": "code",
   "execution_count": 3,
   "metadata": {
    "scrolled": true
   },
   "outputs": [
    {
     "data": {
      "text/html": [
       "<div>\n",
       "<style scoped>\n",
       "    .dataframe tbody tr th:only-of-type {\n",
       "        vertical-align: middle;\n",
       "    }\n",
       "\n",
       "    .dataframe tbody tr th {\n",
       "        vertical-align: top;\n",
       "    }\n",
       "\n",
       "    .dataframe thead th {\n",
       "        text-align: right;\n",
       "    }\n",
       "</style>\n",
       "<table border=\"1\" class=\"dataframe\">\n",
       "  <thead>\n",
       "    <tr style=\"text-align: right;\">\n",
       "      <th></th>\n",
       "      <th>Channel</th>\n",
       "      <th>Offer</th>\n",
       "      <th>Ticket</th>\n",
       "    </tr>\n",
       "  </thead>\n",
       "  <tbody>\n",
       "    <tr>\n",
       "      <th>0</th>\n",
       "      <td>Post</td>\n",
       "      <td>Bundle</td>\n",
       "      <td>Pass</td>\n",
       "    </tr>\n",
       "    <tr>\n",
       "      <th>1</th>\n",
       "      <td>Offline</td>\n",
       "      <td>Bundle</td>\n",
       "      <td>Pass</td>\n",
       "    </tr>\n",
       "    <tr>\n",
       "      <th>2</th>\n",
       "      <td>Post</td>\n",
       "      <td>NoBundle</td>\n",
       "      <td>Pass</td>\n",
       "    </tr>\n",
       "    <tr>\n",
       "      <th>3</th>\n",
       "      <td>Offline</td>\n",
       "      <td>Bundle</td>\n",
       "      <td>NoPass</td>\n",
       "    </tr>\n",
       "    <tr>\n",
       "      <th>4</th>\n",
       "      <td>Offline</td>\n",
       "      <td>Bundle</td>\n",
       "      <td>Pass</td>\n",
       "    </tr>\n",
       "  </tbody>\n",
       "</table>\n",
       "</div>"
      ],
      "text/plain": [
       "   Channel     Offer  Ticket\n",
       "0     Post    Bundle    Pass\n",
       "1  Offline    Bundle    Pass\n",
       "2     Post  NoBundle    Pass\n",
       "3  Offline    Bundle  NoPass\n",
       "4  Offline    Bundle    Pass"
      ]
     },
     "execution_count": 3,
     "metadata": {},
     "output_type": "execute_result"
    }
   ],
   "source": [
    "#load the data\n",
    "data = pd.read_excel('park_data.xlsx')\n",
    "data.head()"
   ]
  },
  {
   "cell_type": "code",
   "execution_count": 4,
   "metadata": {},
   "outputs": [
    {
     "data": {
      "text/html": [
       "<div>\n",
       "<style scoped>\n",
       "    .dataframe tbody tr th:only-of-type {\n",
       "        vertical-align: middle;\n",
       "    }\n",
       "\n",
       "    .dataframe tbody tr th {\n",
       "        vertical-align: top;\n",
       "    }\n",
       "\n",
       "    .dataframe thead th {\n",
       "        text-align: right;\n",
       "    }\n",
       "</style>\n",
       "<table border=\"1\" class=\"dataframe\">\n",
       "  <thead>\n",
       "    <tr style=\"text-align: right;\">\n",
       "      <th></th>\n",
       "      <th>Channel</th>\n",
       "      <th>Offer</th>\n",
       "      <th>Ticket</th>\n",
       "    </tr>\n",
       "  </thead>\n",
       "  <tbody>\n",
       "    <tr>\n",
       "      <th>0</th>\n",
       "      <td>Post</td>\n",
       "      <td>Bundle</td>\n",
       "      <td>1</td>\n",
       "    </tr>\n",
       "    <tr>\n",
       "      <th>1</th>\n",
       "      <td>Offline</td>\n",
       "      <td>Bundle</td>\n",
       "      <td>1</td>\n",
       "    </tr>\n",
       "    <tr>\n",
       "      <th>2</th>\n",
       "      <td>Post</td>\n",
       "      <td>NoBundle</td>\n",
       "      <td>1</td>\n",
       "    </tr>\n",
       "    <tr>\n",
       "      <th>3</th>\n",
       "      <td>Offline</td>\n",
       "      <td>Bundle</td>\n",
       "      <td>0</td>\n",
       "    </tr>\n",
       "    <tr>\n",
       "      <th>4</th>\n",
       "      <td>Offline</td>\n",
       "      <td>Bundle</td>\n",
       "      <td>1</td>\n",
       "    </tr>\n",
       "  </tbody>\n",
       "</table>\n",
       "</div>"
      ],
      "text/plain": [
       "   Channel     Offer  Ticket\n",
       "0     Post    Bundle       1\n",
       "1  Offline    Bundle       1\n",
       "2     Post  NoBundle       1\n",
       "3  Offline    Bundle       0\n",
       "4  Offline    Bundle       1"
      ]
     },
     "execution_count": 4,
     "metadata": {},
     "output_type": "execute_result"
    }
   ],
   "source": [
    "data['Ticket'] = data['Ticket'].astype(str).map({'Pass':1,'NoPass':0})\n",
    "data.head()"
   ]
  },
  {
   "cell_type": "code",
   "execution_count": 5,
   "metadata": {},
   "outputs": [
    {
     "data": {
      "text/html": [
       "<div>\n",
       "<style scoped>\n",
       "    .dataframe tbody tr th:only-of-type {\n",
       "        vertical-align: middle;\n",
       "    }\n",
       "\n",
       "    .dataframe tbody tr th {\n",
       "        vertical-align: top;\n",
       "    }\n",
       "\n",
       "    .dataframe thead th {\n",
       "        text-align: right;\n",
       "    }\n",
       "</style>\n",
       "<table border=\"1\" class=\"dataframe\">\n",
       "  <thead>\n",
       "    <tr style=\"text-align: right;\">\n",
       "      <th></th>\n",
       "      <th>Channel</th>\n",
       "      <th>Offer</th>\n",
       "      <th>Ticket</th>\n",
       "    </tr>\n",
       "  </thead>\n",
       "  <tbody>\n",
       "    <tr>\n",
       "      <th>0</th>\n",
       "      <td>Post</td>\n",
       "      <td>1</td>\n",
       "      <td>1</td>\n",
       "    </tr>\n",
       "    <tr>\n",
       "      <th>1</th>\n",
       "      <td>Offline</td>\n",
       "      <td>1</td>\n",
       "      <td>1</td>\n",
       "    </tr>\n",
       "    <tr>\n",
       "      <th>2</th>\n",
       "      <td>Post</td>\n",
       "      <td>0</td>\n",
       "      <td>1</td>\n",
       "    </tr>\n",
       "    <tr>\n",
       "      <th>3</th>\n",
       "      <td>Offline</td>\n",
       "      <td>1</td>\n",
       "      <td>0</td>\n",
       "    </tr>\n",
       "    <tr>\n",
       "      <th>4</th>\n",
       "      <td>Offline</td>\n",
       "      <td>1</td>\n",
       "      <td>1</td>\n",
       "    </tr>\n",
       "  </tbody>\n",
       "</table>\n",
       "</div>"
      ],
      "text/plain": [
       "   Channel  Offer  Ticket\n",
       "0     Post      1       1\n",
       "1  Offline      1       1\n",
       "2     Post      0       1\n",
       "3  Offline      1       0\n",
       "4  Offline      1       1"
      ]
     },
     "execution_count": 5,
     "metadata": {},
     "output_type": "execute_result"
    }
   ],
   "source": [
    "data['Offer'] = data['Offer'].astype(str).map({'Bundle':1,'NoBundle':0})\n",
    "data.head()"
   ]
  },
  {
   "cell_type": "code",
   "execution_count": 6,
   "metadata": {},
   "outputs": [],
   "source": [
    "feature = data['Offer']\n",
    "output = data['Ticket']"
   ]
  },
  {
   "cell_type": "code",
   "execution_count": 30,
   "metadata": {
    "scrolled": false
   },
   "outputs": [
    {
     "name": "stdout",
     "output_type": "stream",
     "text": [
      "                 Generalized Linear Model Regression Results                  \n",
      "==============================================================================\n",
      "Dep. Variable:                 output   No. Observations:                 3156\n",
      "Model:                            GLM   Df Residuals:                     3154\n",
      "Model Family:                Binomial   Df Model:                            1\n",
      "Link Function:                  logit   Scale:                          1.0000\n",
      "Method:                          IRLS   Log-Likelihood:                -2172.7\n",
      "Date:                Thu, 25 Mar 2021   Deviance:                       4345.4\n",
      "Time:                        09:26:12   Pearson chi2:                 3.16e+03\n",
      "No. Iterations:                     4                                         \n",
      "Covariance Type:            nonrobust                                         \n",
      "==============================================================================\n",
      "                 coef    std err          z      P>|z|      [0.025      0.975]\n",
      "------------------------------------------------------------------------------\n",
      "Intercept     -0.1922      0.052     -3.683      0.000      -0.295      -0.090\n",
      "feature        0.3888      0.072      5.425      0.000       0.248       0.529\n",
      "==============================================================================\n"
     ]
    }
   ],
   "source": [
    "model = sm.formula.glm(\"output ~ feature\", data, family = sm.families.Binomial()).fit()\n",
    "print(model.summary())"
   ]
  },
  {
   "cell_type": "code",
   "execution_count": 33,
   "metadata": {},
   "outputs": [
    {
     "data": {
      "text/plain": [
       "Intercept   -0.192223\n",
       "feature      0.388791\n",
       "dtype: float64"
      ]
     },
     "execution_count": 33,
     "metadata": {},
     "output_type": "execute_result"
    }
   ],
   "source": [
    "model.params"
   ]
  },
  {
   "cell_type": "code",
   "execution_count": 34,
   "metadata": {},
   "outputs": [
    {
     "data": {
      "text/plain": [
       "Intercept    0.825123\n",
       "feature      1.475196\n",
       "dtype: float64"
      ]
     },
     "execution_count": 34,
     "metadata": {},
     "output_type": "execute_result"
    }
   ],
   "source": [
    "# odds ratio\n",
    "np.exp(model.params) # Given an offer, the likelihood of purchase increases by 1.47x "
   ]
  },
  {
   "cell_type": "code",
   "execution_count": 35,
   "metadata": {},
   "outputs": [
    {
     "data": {
      "text/html": [
       "<div>\n",
       "<style scoped>\n",
       "    .dataframe tbody tr th:only-of-type {\n",
       "        vertical-align: middle;\n",
       "    }\n",
       "\n",
       "    .dataframe tbody tr th {\n",
       "        vertical-align: top;\n",
       "    }\n",
       "\n",
       "    .dataframe thead th {\n",
       "        text-align: right;\n",
       "    }\n",
       "</style>\n",
       "<table border=\"1\" class=\"dataframe\">\n",
       "  <thead>\n",
       "    <tr style=\"text-align: right;\">\n",
       "      <th></th>\n",
       "      <th>Channel</th>\n",
       "      <th>Offer</th>\n",
       "    </tr>\n",
       "    <tr>\n",
       "      <th>Ticket</th>\n",
       "      <th></th>\n",
       "      <th></th>\n",
       "    </tr>\n",
       "  </thead>\n",
       "  <tbody>\n",
       "    <tr>\n",
       "      <th>0</th>\n",
       "      <td>1567</td>\n",
       "      <td>1567</td>\n",
       "    </tr>\n",
       "    <tr>\n",
       "      <th>1</th>\n",
       "      <td>1589</td>\n",
       "      <td>1589</td>\n",
       "    </tr>\n",
       "  </tbody>\n",
       "</table>\n",
       "</div>"
      ],
      "text/plain": [
       "        Channel  Offer\n",
       "Ticket                \n",
       "0          1567   1567\n",
       "1          1589   1589"
      ]
     },
     "execution_count": 35,
     "metadata": {},
     "output_type": "execute_result"
    }
   ],
   "source": [
    "data.groupby(['Ticket']).count()"
   ]
  },
  {
   "cell_type": "markdown",
   "metadata": {},
   "source": [
    "## 2) by Channels"
   ]
  },
  {
   "cell_type": "code",
   "execution_count": 216,
   "metadata": {},
   "outputs": [
    {
     "data": {
      "text/html": [
       "<div>\n",
       "<style scoped>\n",
       "    .dataframe tbody tr th:only-of-type {\n",
       "        vertical-align: middle;\n",
       "    }\n",
       "\n",
       "    .dataframe tbody tr th {\n",
       "        vertical-align: top;\n",
       "    }\n",
       "\n",
       "    .dataframe thead th {\n",
       "        text-align: right;\n",
       "    }\n",
       "</style>\n",
       "<table border=\"1\" class=\"dataframe\">\n",
       "  <thead>\n",
       "    <tr style=\"text-align: right;\">\n",
       "      <th></th>\n",
       "      <th></th>\n",
       "      <th>Offer</th>\n",
       "    </tr>\n",
       "    <tr>\n",
       "      <th>Ticket</th>\n",
       "      <th>Channel</th>\n",
       "      <th></th>\n",
       "    </tr>\n",
       "  </thead>\n",
       "  <tbody>\n",
       "    <tr>\n",
       "      <th rowspan=\"3\" valign=\"top\">0</th>\n",
       "      <th>Email</th>\n",
       "      <td>568</td>\n",
       "    </tr>\n",
       "    <tr>\n",
       "      <th>Offline</th>\n",
       "      <td>272</td>\n",
       "    </tr>\n",
       "    <tr>\n",
       "      <th>Post</th>\n",
       "      <td>727</td>\n",
       "    </tr>\n",
       "    <tr>\n",
       "      <th rowspan=\"3\" valign=\"top\">1</th>\n",
       "      <th>Email</th>\n",
       "      <td>65</td>\n",
       "    </tr>\n",
       "    <tr>\n",
       "      <th>Offline</th>\n",
       "      <td>923</td>\n",
       "    </tr>\n",
       "    <tr>\n",
       "      <th>Post</th>\n",
       "      <td>601</td>\n",
       "    </tr>\n",
       "  </tbody>\n",
       "</table>\n",
       "</div>"
      ],
      "text/plain": [
       "                Offer\n",
       "Ticket Channel       \n",
       "0      Email      568\n",
       "       Offline    272\n",
       "       Post       727\n",
       "1      Email       65\n",
       "       Offline    923\n",
       "       Post       601"
      ]
     },
     "execution_count": 216,
     "metadata": {},
     "output_type": "execute_result"
    }
   ],
   "source": [
    "data.groupby(['Ticket', 'Channel']).count()"
   ]
  },
  {
   "cell_type": "code",
   "execution_count": 217,
   "metadata": {},
   "outputs": [
    {
     "name": "stdout",
     "output_type": "stream",
     "text": [
      "                 Generalized Linear Model Regression Results                  \n",
      "==============================================================================\n",
      "Dep. Variable:         data['Ticket']   No. Observations:                 3156\n",
      "Model:                            GLM   Df Residuals:                     3152\n",
      "Model Family:                Binomial   Df Model:                            3\n",
      "Link Function:                  logit   Scale:                          1.0000\n",
      "Method:                          IRLS   Log-Likelihood:                -1745.1\n",
      "Date:                Wed, 24 Mar 2021   Deviance:                       3490.2\n",
      "Time:                        17:07:27   Pearson chi2:                 3.30e+03\n",
      "No. Iterations:                     5                                         \n",
      "Covariance Type:            nonrobust                                         \n",
      "==============================================================================================\n",
      "                                 coef    std err          z      P>|z|      [0.025      0.975]\n",
      "----------------------------------------------------------------------------------------------\n",
      "Intercept                     -2.0786      0.132    -15.785      0.000      -2.337      -1.821\n",
      "data['Channel'][T.Offline]     3.7218      0.160     23.312      0.000       3.409       4.035\n",
      "data['Channel'][T.Post]        2.1762      0.147     14.853      0.000       1.889       2.463\n",
      "data['Offer']                 -0.5602      0.090     -6.203      0.000      -0.737      -0.383\n",
      "==============================================================================================\n"
     ]
    }
   ],
   "source": [
    "model2 = sm.formula.glm(\"data['Ticket'] ~ data['Offer']+data['Channel']\", data, family = sm.families.Binomial()).fit()\n",
    "print(model2.summary())"
   ]
  },
  {
   "cell_type": "code",
   "execution_count": 219,
   "metadata": {},
   "outputs": [
    {
     "data": {
      "text/plain": [
       "Intercept                      0.125105\n",
       "data['Channel'][T.Offline]    41.337121\n",
       "data['Channel'][T.Post]        8.812507\n",
       "data['Offer']                  0.571085\n",
       "dtype: float64"
      ]
     },
     "execution_count": 219,
     "metadata": {},
     "output_type": "execute_result"
    }
   ],
   "source": [
    "# odds ratio\n",
    "np.exp(model2.params) # decision boundary = 1. "
   ]
  },
  {
   "cell_type": "markdown",
   "metadata": {},
   "source": [
    "## 3) interact "
   ]
  },
  {
   "cell_type": "code",
   "execution_count": 28,
   "metadata": {},
   "outputs": [
    {
     "name": "stdout",
     "output_type": "stream",
     "text": [
      "   Channel     Offer  Ticket\n",
      "0     Post    Bundle    Pass\n",
      "1  Offline    Bundle    Pass\n",
      "2     Post  NoBundle    Pass\n",
      "3  Offline    Bundle  NoPass\n",
      "4  Offline    Bundle    Pass\n",
      "Channel    object\n",
      "Offer      object\n",
      "Ticket     object\n",
      "dtype: object\n"
     ]
    }
   ],
   "source": [
    "#load the data\n",
    "data1 = pd.read_excel('park_data.xlsx')\n",
    "print(data1.head())\n",
    "print(data1.dtypes)\n"
   ]
  },
  {
   "cell_type": "code",
   "execution_count": 45,
   "metadata": {},
   "outputs": [
    {
     "data": {
      "image/png": "[encoded data removed]",
      "text/plain": [
       "<Figure size 432x288 with 3 Axes>"
      ]
     },
     "metadata": {
      "needs_background": "light"
     },
     "output_type": "display_data"
    }
   ],
   "source": [
    "# Package for plot\n",
    "from statsmodels.graphics.mosaicplot import mosaic\n",
    "import matplotlib.pyplot as plt\n",
    "\n",
    "# checking interaction effect\n",
    "mosaic(data1, ['Channel', 'Ticket', 'Offer'], title='Mosaic Chart of Park Data')\n",
    "plt.show() "
   ]
  },
  {
   "cell_type": "code",
   "execution_count": 20,
   "metadata": {},
   "outputs": [
    {
     "name": "stdout",
     "output_type": "stream",
     "text": [
      "                 Generalized Linear Model Regression Results                  \n",
      "==============================================================================\n",
      "Dep. Variable:         data['Ticket']   No. Observations:                 3156\n",
      "Model:                            GLM   Df Residuals:                     3150\n",
      "Model Family:                Binomial   Df Model:                            5\n",
      "Link Function:                  logit   Scale:                          1.0000\n",
      "Method:                          IRLS   Log-Likelihood:                -1696.8\n",
      "Date:                Thu, 25 Mar 2021   Deviance:                       3393.5\n",
      "Time:                        08:50:21   Pearson chi2:                 3.16e+03\n",
      "No. Iterations:                     6                                         \n",
      "Covariance Type:            nonrobust                                         \n",
      "============================================================================================================\n",
      "                                               coef    std err          z      P>|z|      [0.025      0.975]\n",
      "------------------------------------------------------------------------------------------------------------\n",
      "Intercept                                   -2.8883      0.198    -14.607      0.000      -3.276      -2.501\n",
      "data['Channel'][T.Offline]                   4.6455      0.251     18.504      0.000       4.153       5.138\n",
      "data['Channel'][T.Post]                      3.1440      0.213     14.742      0.000       2.726       3.562\n",
      "data['Offer']                                2.1071      0.278      7.571      0.000       1.562       2.653\n",
      "data['Offer']:data['Channel'][T.Offline]    -2.8115      0.328     -8.577      0.000      -3.454      -2.169\n",
      "data['Offer']:data['Channel'][T.Post]       -2.9808      0.300     -9.925      0.000      -3.570      -2.392\n",
      "============================================================================================================\n"
     ]
    }
   ],
   "source": [
    "model3 = sm.formula.glm(\"data['Ticket'] ~ data['Offer']*data['Channel']\", data, family = sm.families.Binomial()).fit()\n",
    "print(model3.summary())"
   ]
  },
  {
   "cell_type": "code",
   "execution_count": 21,
   "metadata": {},
   "outputs": [
    {
     "data": {
      "text/plain": [
       "Intercept                                     0.055670\n",
       "data['Channel'][T.Offline]                  104.111867\n",
       "data['Channel'][T.Post]                      23.196776\n",
       "data['Offer']                                 8.224007\n",
       "data['Offer']:data['Channel'][T.Offline]      0.060116\n",
       "data['Offer']:data['Channel'][T.Post]         0.050750\n",
       "dtype: float64"
      ]
     },
     "execution_count": 21,
     "metadata": {},
     "output_type": "execute_result"
    }
   ],
   "source": [
    "# odds ratio\n",
    "np.exp(model3.params) # decision boundary = 1. "
   ]
  },
  {
   "cell_type": "markdown",
   "metadata": {},
   "source": [
    "# 2. E-commerce Data"
   ]
  },
  {
   "cell_type": "code",
   "execution_count": 59,
   "metadata": {},
   "outputs": [
    {
     "data": {
      "text/html": [
       "<div>\n",
       "<style scoped>\n",
       "    .dataframe tbody tr th:only-of-type {\n",
       "        vertical-align: middle;\n",
       "    }\n",
       "\n",
       "    .dataframe tbody tr th {\n",
       "        vertical-align: top;\n",
       "    }\n",
       "\n",
       "    .dataframe thead th {\n",
       "        text-align: right;\n",
       "    }\n",
       "</style>\n",
       "<table border=\"1\" class=\"dataframe\">\n",
       "  <thead>\n",
       "    <tr style=\"text-align: right;\">\n",
       "      <th></th>\n",
       "      <th>acctAge</th>\n",
       "      <th>visitsMonth</th>\n",
       "      <th>spendToDate</th>\n",
       "      <th>spendMonth</th>\n",
       "      <th>satSite</th>\n",
       "      <th>satQuality</th>\n",
       "      <th>satPrice</th>\n",
       "      <th>satOverall</th>\n",
       "      <th>region</th>\n",
       "      <th>coupon</th>\n",
       "      <th>purchase</th>\n",
       "    </tr>\n",
       "  </thead>\n",
       "  <tbody>\n",
       "    <tr>\n",
       "      <th>0</th>\n",
       "      <td>21</td>\n",
       "      <td>9</td>\n",
       "      <td>21</td>\n",
       "      <td>21</td>\n",
       "      <td>6</td>\n",
       "      <td>5</td>\n",
       "      <td>6</td>\n",
       "      <td>6</td>\n",
       "      <td>Mideast</td>\n",
       "      <td>0</td>\n",
       "      <td>0</td>\n",
       "    </tr>\n",
       "    <tr>\n",
       "      <th>1</th>\n",
       "      <td>9</td>\n",
       "      <td>9</td>\n",
       "      <td>55</td>\n",
       "      <td>55</td>\n",
       "      <td>4</td>\n",
       "      <td>5</td>\n",
       "      <td>4</td>\n",
       "      <td>4</td>\n",
       "      <td>Southwest</td>\n",
       "      <td>0</td>\n",
       "      <td>0</td>\n",
       "    </tr>\n",
       "    <tr>\n",
       "      <th>2</th>\n",
       "      <td>16</td>\n",
       "      <td>7</td>\n",
       "      <td>64</td>\n",
       "      <td>17</td>\n",
       "      <td>6</td>\n",
       "      <td>6</td>\n",
       "      <td>7</td>\n",
       "      <td>7</td>\n",
       "      <td>Mideast</td>\n",
       "      <td>1</td>\n",
       "      <td>0</td>\n",
       "    </tr>\n",
       "    <tr>\n",
       "      <th>3</th>\n",
       "      <td>4</td>\n",
       "      <td>8</td>\n",
       "      <td>61</td>\n",
       "      <td>8</td>\n",
       "      <td>6</td>\n",
       "      <td>6</td>\n",
       "      <td>6</td>\n",
       "      <td>6</td>\n",
       "      <td>Southwest</td>\n",
       "      <td>1</td>\n",
       "      <td>0</td>\n",
       "    </tr>\n",
       "    <tr>\n",
       "      <th>4</th>\n",
       "      <td>16</td>\n",
       "      <td>6</td>\n",
       "      <td>27</td>\n",
       "      <td>9</td>\n",
       "      <td>5</td>\n",
       "      <td>5</td>\n",
       "      <td>6</td>\n",
       "      <td>6</td>\n",
       "      <td>Midwest</td>\n",
       "      <td>0</td>\n",
       "      <td>0</td>\n",
       "    </tr>\n",
       "  </tbody>\n",
       "</table>\n",
       "</div>"
      ],
      "text/plain": [
       "   acctAge  visitsMonth  spendToDate  spendMonth  satSite  satQuality  \\\n",
       "0       21            9           21          21        6           5   \n",
       "1        9            9           55          55        4           5   \n",
       "2       16            7           64          17        6           6   \n",
       "3        4            8           61           8        6           6   \n",
       "4       16            6           27           9        5           5   \n",
       "\n",
       "   satPrice  satOverall     region  coupon  purchase  \n",
       "0         6           6    Mideast       0         0  \n",
       "1         4           4  Southwest       0         0  \n",
       "2         7           7    Mideast       1         0  \n",
       "3         6           6  Southwest       1         0  \n",
       "4         6           6    Midwest       0         0  "
      ]
     },
     "execution_count": 59,
     "metadata": {},
     "output_type": "execute_result"
    }
   ],
   "source": [
    "import pandas as pd\n",
    "import numpy as np\n",
    "\n",
    "# load data\n",
    "data = pd.read_csv(\"https://goo.gl/4Akgkt\")\n",
    "\n",
    "data.head()"
   ]
  },
  {
   "cell_type": "code",
   "execution_count": 56,
   "metadata": {},
   "outputs": [
    {
     "data": {
      "text/html": [
       "<div>\n",
       "<style scoped>\n",
       "    .dataframe tbody tr th:only-of-type {\n",
       "        vertical-align: middle;\n",
       "    }\n",
       "\n",
       "    .dataframe tbody tr th {\n",
       "        vertical-align: top;\n",
       "    }\n",
       "\n",
       "    .dataframe thead th {\n",
       "        text-align: right;\n",
       "    }\n",
       "</style>\n",
       "<table border=\"1\" class=\"dataframe\">\n",
       "  <thead>\n",
       "    <tr style=\"text-align: right;\">\n",
       "      <th></th>\n",
       "      <th>acctAge</th>\n",
       "      <th>visitsMonth</th>\n",
       "      <th>spendToDate</th>\n",
       "      <th>spendMonth</th>\n",
       "      <th>satSite</th>\n",
       "      <th>satQuality</th>\n",
       "      <th>satPrice</th>\n",
       "      <th>satOverall</th>\n",
       "      <th>coupon</th>\n",
       "      <th>purchase</th>\n",
       "    </tr>\n",
       "  </thead>\n",
       "  <tbody>\n",
       "    <tr>\n",
       "      <th>count</th>\n",
       "      <td>835.000000</td>\n",
       "      <td>835.000000</td>\n",
       "      <td>835.000000</td>\n",
       "      <td>835.000000</td>\n",
       "      <td>835.000000</td>\n",
       "      <td>835.000000</td>\n",
       "      <td>835.000000</td>\n",
       "      <td>835.000000</td>\n",
       "      <td>835.000000</td>\n",
       "      <td>835.000000</td>\n",
       "    </tr>\n",
       "    <tr>\n",
       "      <th>mean</th>\n",
       "      <td>12.835928</td>\n",
       "      <td>7.180838</td>\n",
       "      <td>125.943713</td>\n",
       "      <td>34.200000</td>\n",
       "      <td>5.714970</td>\n",
       "      <td>6.010778</td>\n",
       "      <td>5.756886</td>\n",
       "      <td>5.695808</td>\n",
       "      <td>0.338922</td>\n",
       "      <td>0.031138</td>\n",
       "    </tr>\n",
       "    <tr>\n",
       "      <th>std</th>\n",
       "      <td>5.778539</td>\n",
       "      <td>2.233303</td>\n",
       "      <td>203.160745</td>\n",
       "      <td>66.813617</td>\n",
       "      <td>1.532291</td>\n",
       "      <td>1.608171</td>\n",
       "      <td>1.601726</td>\n",
       "      <td>1.647880</td>\n",
       "      <td>0.473627</td>\n",
       "      <td>0.173794</td>\n",
       "    </tr>\n",
       "    <tr>\n",
       "      <th>min</th>\n",
       "      <td>1.000000</td>\n",
       "      <td>1.000000</td>\n",
       "      <td>6.000000</td>\n",
       "      <td>4.000000</td>\n",
       "      <td>1.000000</td>\n",
       "      <td>1.000000</td>\n",
       "      <td>1.000000</td>\n",
       "      <td>1.000000</td>\n",
       "      <td>0.000000</td>\n",
       "      <td>0.000000</td>\n",
       "    </tr>\n",
       "    <tr>\n",
       "      <th>25%</th>\n",
       "      <td>8.000000</td>\n",
       "      <td>6.000000</td>\n",
       "      <td>28.000000</td>\n",
       "      <td>9.000000</td>\n",
       "      <td>5.000000</td>\n",
       "      <td>5.000000</td>\n",
       "      <td>5.000000</td>\n",
       "      <td>5.000000</td>\n",
       "      <td>0.000000</td>\n",
       "      <td>0.000000</td>\n",
       "    </tr>\n",
       "    <tr>\n",
       "      <th>50%</th>\n",
       "      <td>13.000000</td>\n",
       "      <td>7.000000</td>\n",
       "      <td>45.000000</td>\n",
       "      <td>17.000000</td>\n",
       "      <td>6.000000</td>\n",
       "      <td>6.000000</td>\n",
       "      <td>6.000000</td>\n",
       "      <td>6.000000</td>\n",
       "      <td>0.000000</td>\n",
       "      <td>0.000000</td>\n",
       "    </tr>\n",
       "    <tr>\n",
       "      <th>75%</th>\n",
       "      <td>18.000000</td>\n",
       "      <td>9.000000</td>\n",
       "      <td>100.500000</td>\n",
       "      <td>34.000000</td>\n",
       "      <td>7.000000</td>\n",
       "      <td>7.000000</td>\n",
       "      <td>7.000000</td>\n",
       "      <td>7.000000</td>\n",
       "      <td>1.000000</td>\n",
       "      <td>0.000000</td>\n",
       "    </tr>\n",
       "    <tr>\n",
       "      <th>max</th>\n",
       "      <td>24.000000</td>\n",
       "      <td>15.000000</td>\n",
       "      <td>1196.000000</td>\n",
       "      <td>1041.000000</td>\n",
       "      <td>10.000000</td>\n",
       "      <td>10.000000</td>\n",
       "      <td>10.000000</td>\n",
       "      <td>10.000000</td>\n",
       "      <td>1.000000</td>\n",
       "      <td>1.000000</td>\n",
       "    </tr>\n",
       "  </tbody>\n",
       "</table>\n",
       "</div>"
      ],
      "text/plain": [
       "          acctAge  visitsMonth  spendToDate   spendMonth     satSite  \\\n",
       "count  835.000000   835.000000   835.000000   835.000000  835.000000   \n",
       "mean    12.835928     7.180838   125.943713    34.200000    5.714970   \n",
       "std      5.778539     2.233303   203.160745    66.813617    1.532291   \n",
       "min      1.000000     1.000000     6.000000     4.000000    1.000000   \n",
       "25%      8.000000     6.000000    28.000000     9.000000    5.000000   \n",
       "50%     13.000000     7.000000    45.000000    17.000000    6.000000   \n",
       "75%     18.000000     9.000000   100.500000    34.000000    7.000000   \n",
       "max     24.000000    15.000000  1196.000000  1041.000000   10.000000   \n",
       "\n",
       "       satQuality    satPrice  satOverall      coupon    purchase  \n",
       "count  835.000000  835.000000  835.000000  835.000000  835.000000  \n",
       "mean     6.010778    5.756886    5.695808    0.338922    0.031138  \n",
       "std      1.608171    1.601726    1.647880    0.473627    0.173794  \n",
       "min      1.000000    1.000000    1.000000    0.000000    0.000000  \n",
       "25%      5.000000    5.000000    5.000000    0.000000    0.000000  \n",
       "50%      6.000000    6.000000    6.000000    0.000000    0.000000  \n",
       "75%      7.000000    7.000000    7.000000    1.000000    0.000000  \n",
       "max     10.000000   10.000000   10.000000    1.000000    1.000000  "
      ]
     },
     "execution_count": 56,
     "metadata": {},
     "output_type": "execute_result"
    }
   ],
   "source": [
    "data.describe()"
   ]
  },
  {
   "cell_type": "code",
   "execution_count": null,
   "metadata": {},
   "outputs": [],
   "source": []
  },
  {
   "cell_type": "markdown",
   "metadata": {},
   "source": [
    "## 1) Purchase ~ Coupon"
   ]
  },
  {
   "cell_type": "code",
   "execution_count": 50,
   "metadata": {},
   "outputs": [
    {
     "name": "stdout",
     "output_type": "stream",
     "text": [
      "                 Generalized Linear Model Regression Results                  \n",
      "==============================================================================\n",
      "Dep. Variable:               purchase   No. Observations:                  835\n",
      "Model:                            GLM   Df Residuals:                      833\n",
      "Model Family:                Binomial   Df Model:                            1\n",
      "Link Function:                  logit   Scale:                          1.0000\n",
      "Method:                          IRLS   Log-Likelihood:                -107.20\n",
      "Date:                Thu, 25 Mar 2021   Deviance:                       214.39\n",
      "Time:                        13:08:45   Pearson chi2:                     835.\n",
      "No. Iterations:                     7                                         \n",
      "Covariance Type:            nonrobust                                         \n",
      "==============================================================================\n",
      "                 coef    std err          z      P>|z|      [0.025      0.975]\n",
      "------------------------------------------------------------------------------\n",
      "Intercept     -4.3549      0.380    -11.449      0.000      -5.100      -3.609\n",
      "coupon         1.7234      0.448      3.843      0.000       0.844       2.602\n",
      "==============================================================================\n",
      "Intercept    0.012844\n",
      "coupon       5.603355\n",
      "dtype: float64\n"
     ]
    }
   ],
   "source": [
    "import statsmodels.api as sm\n",
    "\n",
    "model = sm.formula.glm('purchase ~ coupon', data, family = sm.families.Binomial()).fit()\n",
    "print(model.summary())\n",
    "print(np.exp(model.params))"
   ]
  },
  {
   "cell_type": "code",
   "execution_count": 54,
   "metadata": {},
   "outputs": [
    {
     "name": "stdout",
     "output_type": "stream",
     "text": [
      "                 Generalized Linear Model Regression Results                  \n",
      "==============================================================================\n",
      "Dep. Variable:               purchase   No. Observations:                  835\n",
      "Model:                            GLM   Df Residuals:                      825\n",
      "Model Family:                Binomial   Df Model:                            9\n",
      "Link Function:                  logit   Scale:                          1.0000\n",
      "Method:                          IRLS   Log-Likelihood:                -95.013\n",
      "Date:                Thu, 25 Mar 2021   Deviance:                       190.03\n",
      "Time:                        13:11:23   Pearson chi2:                     805.\n",
      "No. Iterations:                    21                                         \n",
      "Covariance Type:            nonrobust                                         \n",
      "=======================================================================================\n",
      "                          coef    std err          z      P>|z|      [0.025      0.975]\n",
      "---------------------------------------------------------------------------------------\n",
      "Intercept              -7.9858      1.123     -7.114      0.000     -10.186      -5.786\n",
      "region[T.Midwest]      -0.6074      0.638     -0.952      0.341      -1.857       0.642\n",
      "region[T.Mountains]   -17.7143   1.32e+04     -0.001      0.999    -2.6e+04    2.59e+04\n",
      "region[T.Northeast]     0.2587      0.679      0.381      0.703      -1.073       1.590\n",
      "region[T.South]        -0.3491      0.557     -0.627      0.531      -1.441       0.742\n",
      "region[T.Southwest]    -0.2716      0.821     -0.331      0.741      -1.881       1.338\n",
      "region[T.West]          0.5863      1.114      0.526      0.599      -1.598       2.770\n",
      "coupon                  0.9605      0.486      1.975      0.048       0.007       1.914\n",
      "satOverall              0.6235      0.152      4.114      0.000       0.326       0.921\n",
      "spendToDate             0.0008      0.001      1.058      0.290      -0.001       0.002\n",
      "=======================================================================================\n",
      "Intercept              3.402636e-04\n",
      "region[T.Midwest]      5.447790e-01\n",
      "region[T.Mountains]    2.026616e-08\n",
      "region[T.Northeast]    1.295206e+00\n",
      "region[T.South]        7.053422e-01\n",
      "region[T.Southwest]    7.621638e-01\n",
      "region[T.West]         1.797299e+00\n",
      "coupon                 2.613125e+00\n",
      "satOverall             1.865483e+00\n",
      "spendToDate            1.000808e+00\n",
      "dtype: float64\n"
     ]
    }
   ],
   "source": [
    "model2 = sm.formula.glm('purchase ~ coupon + region + satOverall + spendToDate', data, family = sm.families.Binomial()).fit()\n",
    "print(model2.summary())\n",
    "print(np.exp(model2.params))"
   ]
  },
  {
   "cell_type": "code",
   "execution_count": 55,
   "metadata": {},
   "outputs": [
    {
     "name": "stdout",
     "output_type": "stream",
     "text": [
      "                 Generalized Linear Model Regression Results                  \n",
      "==============================================================================\n",
      "Dep. Variable:               purchase   No. Observations:                  835\n",
      "Model:                            GLM   Df Residuals:                      831\n",
      "Model Family:                Binomial   Df Model:                            3\n",
      "Link Function:                  logit   Scale:                          1.0000\n",
      "Method:                          IRLS   Log-Likelihood:                -96.703\n",
      "Date:                Thu, 25 Mar 2021   Deviance:                       193.41\n",
      "Time:                        13:12:08   Pearson chi2:                     740.\n",
      "No. Iterations:                     8                                         \n",
      "Covariance Type:            nonrobust                                         \n",
      "=====================================================================================\n",
      "                        coef    std err          z      P>|z|      [0.025      0.975]\n",
      "-------------------------------------------------------------------------------------\n",
      "Intercept            -8.0012      1.893     -4.228      0.000     -11.711      -4.292\n",
      "coupon                0.8973      2.310      0.389      0.698      -3.629       5.424\n",
      "satOverall            0.6124      0.283      2.163      0.031       0.058       1.167\n",
      "coupon:satOverall     0.0161      0.330      0.049      0.961      -0.630       0.662\n",
      "=====================================================================================\n",
      "Intercept            0.000335\n",
      "coupon               2.452936\n",
      "satOverall           1.844837\n",
      "coupon:satOverall    1.016261\n",
      "dtype: float64\n"
     ]
    }
   ],
   "source": [
    "model3 = sm.formula.glm('purchase ~ coupon + satOverall + coupon:satOverall', data, family = sm.families.Binomial()).fit()\n",
    "print(model3.summary())\n",
    "print(np.exp(model3.params))"
   ]
  },
  {
   "cell_type": "code",
   "execution_count": 61,
   "metadata": {},
   "outputs": [
    {
     "name": "stdout",
     "output_type": "stream",
     "text": [
      "                 Generalized Linear Model Regression Results                  \n",
      "==============================================================================\n",
      "Dep. Variable:               purchase   No. Observations:                  835\n",
      "Model:                            GLM   Df Residuals:                      832\n",
      "Model Family:                Binomial   Df Model:                            2\n",
      "Link Function:                  logit   Scale:                          1.0000\n",
      "Method:                          IRLS   Log-Likelihood:                -96.705\n",
      "Date:                Thu, 25 Mar 2021   Deviance:                       193.41\n",
      "Time:                        13:56:34   Pearson chi2:                     747.\n",
      "No. Iterations:                     7                                         \n",
      "Covariance Type:            nonrobust                                         \n",
      "==============================================================================\n",
      "                 coef    std err          z      P>|z|      [0.025      0.975]\n",
      "------------------------------------------------------------------------------\n",
      "Intercept     -8.0793      1.027     -7.867      0.000     -10.092      -6.066\n",
      "coupon         1.0079      0.483      2.086      0.037       0.061       1.955\n",
      "satOverall     0.6243      0.145      4.303      0.000       0.340       0.909\n",
      "==============================================================================\n",
      "Intercept     0.000310\n",
      "coupon        2.739708\n",
      "satOverall    1.866933\n",
      "dtype: float64\n"
     ]
    }
   ],
   "source": [
    "model4 = sm.formula.glm('purchase ~ coupon + satOverall', data, family = sm.families.Binomial()).fit()\n",
    "print(model4.summary())\n",
    "print(np.exp(model4.params))"
   ]
  },
  {
   "cell_type": "code",
   "execution_count": null,
   "metadata": {},
   "outputs": [],
   "source": []
  },
  {
   "cell_type": "code",
   "execution_count": null,
   "metadata": {},
   "outputs": [],
   "source": []
  },
  {
   "cell_type": "code",
   "execution_count": null,
   "metadata": {},
   "outputs": [],
   "source": []
  },
  {
   "cell_type": "code",
   "execution_count": null,
   "metadata": {},
   "outputs": [],
   "source": []
  },
  {
   "cell_type": "code",
   "execution_count": null,
   "metadata": {},
   "outputs": [],
   "source": []
  },
  {
   "cell_type": "code",
   "execution_count": null,
   "metadata": {},
   "outputs": [],
   "source": []
  }
 ],
 "metadata": {
  "kernelspec": {
   "display_name": "Python 3",
   "language": "python",
   "name": "python3"
  },
  "language_info": {
   "codemirror_mode": {
    "name": "ipython",
    "version": 3
   },
   "file_extension": ".py",
   "mimetype": "text/x-python",
   "name": "python",
   "nbconvert_exporter": "python",
   "pygments_lexer": "ipython3",
   "version": "3.8.5"
  }
 },
 "nbformat": 4,
 "nbformat_minor": 4
}
